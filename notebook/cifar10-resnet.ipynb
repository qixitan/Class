{
 "cells": [
  {
   "cell_type": "markdown",
   "id": "2ff470d6",
   "metadata": {},
   "source": [
    "url = \"https://github.com/kuangliu/pytorch-cifar/blob/master/models/resnet.py\""
   ]
  },
  {
   "cell_type": "code",
   "execution_count": 1,
   "id": "da07ad36",
   "metadata": {},
   "outputs": [],
   "source": [
    "import datetime\n",
    "import matplotlib.pyplot as plt\n",
    "import os"
   ]
  },
  {
   "cell_type": "code",
   "execution_count": 2,
   "id": "2cc428e7",
   "metadata": {},
   "outputs": [],
   "source": [
    "import torch\n",
    "import torch.nn as nn\n",
    "import torchvision\n",
    "import torchvision.transforms as transforms\n",
    "import torch.backends.cudnn as cudnn"
   ]
  },
  {
   "cell_type": "markdown",
   "id": "e28c41cd",
   "metadata": {},
   "source": [
    "# 设置超参数"
   ]
  },
  {
   "cell_type": "code",
   "execution_count": 1,
   "id": "3087f58e",
   "metadata": {},
   "outputs": [],
   "source": [
    "batch_size, num_workers = 8, 2\n",
    "num_epochs = 100\n",
    "lr = 0.1"
   ]
  },
  {
   "cell_type": "markdown",
   "id": "91e48c8d",
   "metadata": {},
   "source": [
    "# 模型"
   ]
  },
  {
   "cell_type": "markdown",
   "id": "cc31120b",
   "metadata": {},
   "source": [
    "## ResNet"
   ]
  },
  {
   "cell_type": "code",
   "execution_count": 3,
   "id": "06476159",
   "metadata": {},
   "outputs": [
    {
     "data": {
      "text/plain": [
       "torch.Size([1, 16, 64, 64])"
      ]
     },
     "execution_count": 3,
     "metadata": {},
     "output_type": "execute_result"
    }
   ],
   "source": [
    "class BasicBlock(nn.Module):\n",
    "    #在resnet18、34中使用的残差块\n",
    "    expansion=1\n",
    "    def __init__(self, inplanes, planes, stride=1):\n",
    "        super().__init__()\n",
    "        self.act = nn.ReLU(inplace=True)\n",
    "        self.conv1 = nn.Conv2d(\n",
    "            inplanes, planes, kernel_size=3, stride=stride, padding=1, bias=False,\n",
    "        )\n",
    "        self.bn1 = nn.BatchNorm2d(planes)\n",
    "        \n",
    "        self.conv2 = nn.Conv2d(\n",
    "            planes, planes, kernel_size=3, stride=1, padding=1, bias=False,\n",
    "        )\n",
    "        self.bn2 = nn.BatchNorm2d(planes)\n",
    "        \n",
    "        self.shortcut = nn.Sequential()\n",
    "        self.downsample = nn.Sequential()\n",
    "        if stride != 1 or inplanes != self.expansion*planes:\n",
    "            self.downsample = nn.Sequential(\n",
    "                nn.Conv2d(\n",
    "                    inplanes, self.expansion*planes, kernel_size=1, stride=stride, bias=False\n",
    "                ),\n",
    "                nn.BatchNorm2d(self.expansion*planes)\n",
    "            )\n",
    "    def forward(self, x):\n",
    "        out = self.act(self.bn1(self.conv1(x)))\n",
    "        out = self.bn2(self.conv2(out))\n",
    "        out += self.downsample(x)\n",
    "        out = self.act(out)\n",
    "        return out\n",
    "\n",
    "def test_basicblock():\n",
    "    inplanes, planes = 16, 16\n",
    "    x = torch.randn(1, inplanes, 64, 64)\n",
    "    y = BasicBlock(inplanes, planes, stride=1)(x)\n",
    "    return y.shape\n",
    "\n",
    "test_basicblock()"
   ]
  },
  {
   "cell_type": "code",
   "execution_count": 4,
   "id": "6528bbb9",
   "metadata": {},
   "outputs": [
    {
     "data": {
      "text/plain": [
       "torch.Size([1, 64, 64, 64])"
      ]
     },
     "execution_count": 4,
     "metadata": {},
     "output_type": "execute_result"
    }
   ],
   "source": [
    "class Bottlennck(nn.Module):\n",
    "    #在resnet50、101、152中使用的残差块\n",
    "    expansion = 4\n",
    "    def __init__(self, inplanes, planes, stride=1):\n",
    "        super().__init__()\n",
    "        self.act = nn.ReLU(inplace=True)\n",
    "        self.conv1 = nn.Conv2d(\n",
    "            inplanes, planes, kernel_size=1, bias=False\n",
    "        )\n",
    "        self.bn1 = nn.BatchNorm2d(planes)\n",
    "        \n",
    "        self.conv2 = nn.Conv2d(\n",
    "            planes, planes, kernel_size=3,stride=stride, padding=1, bias=False\n",
    "        )\n",
    "        self.bn2 = nn.BatchNorm2d(planes)\n",
    "        \n",
    "        self.conv3 = nn.Conv2d(\n",
    "            planes, self.expansion*planes, kernel_size=1, bias=False\n",
    "        )\n",
    "        self.bn3 = nn.BatchNorm2d(self.expansion*planes)\n",
    "        self.downsample = nn.Sequential()\n",
    "        if stride != 1 or inplanes != self.expansion*planes:\n",
    "            self.downsample = nn.Sequential(\n",
    "                nn.Conv2d(\n",
    "                    inplanes, self.expansion*planes, kernel_size=1, stride=stride, bias=False\n",
    "                ),\n",
    "                nn.BatchNorm2d(self.expansion*planes),\n",
    "            )\n",
    "    def forward(self, x):\n",
    "        out = self.act(self.bn1(self.conv1(x)))\n",
    "        out = self.act(self.bn2(self.conv2(out)))\n",
    "        out = self.bn3(self.conv3(out))\n",
    "        out += self.downsample(x)\n",
    "        out = self.act(out)\n",
    "        return out\n",
    "    \n",
    "def test_bottlennck():\n",
    "    inplanes, planes = 16, 16\n",
    "    x = torch.randn(1, inplanes, 64, 64)\n",
    "    y = Bottlennck(inplanes, planes, stride=1)(x)\n",
    "    return y.shape\n",
    "\n",
    "test_bottlennck()"
   ]
  },
  {
   "cell_type": "code",
   "execution_count": 5,
   "id": "b42e54cf",
   "metadata": {},
   "outputs": [
    {
     "data": {
      "text/plain": [
       "torch.Size([1, 10])"
      ]
     },
     "execution_count": 5,
     "metadata": {},
     "output_type": "execute_result"
    }
   ],
   "source": [
    "class ResNet(nn.Module):\n",
    "    def __init__(self, block, num_blocks, num_classes=10):\n",
    "        super().__init__()\n",
    "        self.inplanes = 64\n",
    "        self.stem = nn.Sequential(\n",
    "            nn.Conv2d(3, 64, kernel_size=3, stride=1, padding=1, bias=False),\n",
    "            nn.BatchNorm2d(64),\n",
    "            nn.ReLU(inplace=True)\n",
    "        )\n",
    "        self.layer1 = self._make_layer(\n",
    "            block, 64, num_blocks[0], stride=1\n",
    "        )\n",
    "        self.layer2 = self._make_layer(\n",
    "            block, 128, num_blocks[1], stride=2\n",
    "        )\n",
    "        self.layer3 = self._make_layer(\n",
    "            block, 256, num_blocks[2], stride=2\n",
    "        )\n",
    "        self.layer4 = self._make_layer(\n",
    "            block, 512, num_blocks[3], stride=2\n",
    "        )\n",
    "        self.avgpool = nn.AdaptiveAvgPool2d(1)\n",
    "        self.linear = nn.Linear(512*block.expansion, num_classes)\n",
    "    \n",
    "    def _make_layer(self, block, planes, num_blocks, stride):\n",
    "        strides = [stride] + [1]*(num_blocks-1)\n",
    "        layers = []\n",
    "        for stride in strides:\n",
    "            layers.append(block(self.inplanes, planes, stride))\n",
    "            self.inplanes = planes*block.expansion\n",
    "        return nn.Sequential(*layers)\n",
    "    def forward(self, x):\n",
    "        out = self.stem(x)\n",
    "        out = self.layer1(out)\n",
    "        out = self.layer2(out)\n",
    "        out = self.layer3(out)\n",
    "        out = self.layer4(out)\n",
    "        out = self.avgpool(out)\n",
    "        out = out.view(out.size(0), -1)\n",
    "        out = self.linear(out)\n",
    "        return out\n",
    "\n",
    "def ResNet18(num_classes=10):\n",
    "    return ResNet(BasicBlock, [2, 2, 2, 2], num_classes=num_classes)\n",
    "\n",
    "def ResNet34(num_classes=10):\n",
    "    return ResNet(BasicBlock, [3, 4, 6, 3], num_classes=num_classes)\n",
    "\n",
    "def ResNet50(num_classes=10):\n",
    "    return ResNet(Bottleneck, [3, 4, 6, 3], num_classes=num_classes)\n",
    "\n",
    "def ResNet101(num_classes=10):\n",
    "    return ResNet(Bottleneck, [3, 4, 23, 3], num_classes=num_classes)\n",
    "\n",
    "def ResNet152(num_classes=10):\n",
    "    return ResNet(Bottleneck, [3, 8, 36, 3], num_classes=num_classes)\n",
    "\n",
    "def test():\n",
    "    x = torch.randn(1, 3, 32, 32)\n",
    "    y = ResNet18()(x)\n",
    "    return y.shape\n",
    "test()"
   ]
  },
  {
   "cell_type": "markdown",
   "id": "be1ddfa3",
   "metadata": {},
   "source": [
    "# 数据集"
   ]
  },
  {
   "cell_type": "code",
   "execution_count": 7,
   "id": "e5354435",
   "metadata": {},
   "outputs": [],
   "source": [
    "train_transform = transforms.Compose([\n",
    "    transforms.RandomCrop(32, padding=4),\n",
    "    transforms.RandomHorizontalFlip(),\n",
    "    transforms.ToTensor(),\n",
    "    transforms.Normalize(\n",
    "        mean=[0.4914, 0.4882, 0.4465],\n",
    "        std=[0.2023, 0.1994, 0.2010],\n",
    "    )\n",
    "])\n",
    "\n",
    "test_transform = transforms.Compose([\n",
    "    transforms.ToTensor(),\n",
    "    transforms.Normalize(\n",
    "        mean=[0.4914, 0.4882, 0.4465],\n",
    "        std=[0.2023, 0.1994, 0.2010],\n",
    "    )\n",
    "])"
   ]
  },
  {
   "cell_type": "code",
   "execution_count": 8,
   "id": "65c90fe9",
   "metadata": {},
   "outputs": [],
   "source": [
    "train_set = torchvision.datasets.CIFAR10(\n",
    "    root=\"./data\",train=True, transform=train_transform\n",
    ")\n",
    "test_set = torchvision.datasets.CIFAR10(\n",
    "    root=\"./data\",train=False, transform=test_transform\n",
    ")\n",
    "\n",
    "train_loader = torch.utils.data.DataLoader(\n",
    "    train_set, batch_size=batch_size, shuffle=True, num_workers=num_workers\n",
    ")\n",
    "test_loader = torch.utils.data.DataLoader(\n",
    "    test_set, batch_size=batch_size, shuffle=False, num_workers=num_workers\n",
    ")"
   ]
  },
  {
   "cell_type": "markdown",
   "id": "c4f07361",
   "metadata": {},
   "source": [
    "# 函数"
   ]
  },
  {
   "cell_type": "code",
   "execution_count": 9,
   "id": "d1dcc382",
   "metadata": {},
   "outputs": [],
   "source": [
    "def train(net, train_loader, test_loader, num_epochs, lr): \n",
    "    net = nn.DataParallel(net)\n",
    "    cudnn.benchmark = True\n",
    "    best_acc = 0 # 用以保存最好的模型结果\n",
    "    loss_func = nn.CrossEntropyLoss()\n",
    "    optimizer = torch.optim.SGD(\n",
    "        net.parameters(), lr=lr, momentum=0.9, weight_decay=5e-4\n",
    "    )\n",
    "    scheduler = torch.optim.lr_scheduler.CosineAnnealingLR(\n",
    "        optimizer, T_max=num_epochs\n",
    "    )\n",
    "    for epoch in range(num_epochs):\n",
    "        net.train()\n",
    "        train_loss, train_corrent, test_corrent = 0, 0, 0\n",
    "        start_time = datetime.datetime.now()\n",
    "        for i, data in enumerate(train_loader):\n",
    "            img, label = data\n",
    "            img, label = img.cuda(), label.cuda()\n",
    "            optimizer.zero_grad()\n",
    "            outputs = net(img)\n",
    "            loss = loss_func(outputs, label)\n",
    "            loss.backward()\n",
    "            optimizer.step()\n",
    "            train_loss += loss.item()\n",
    "            _, pred = torch.max(outputs, 1)\n",
    "            train_corrent += (pred==label).sum()\n",
    "        end_time = datetime.datetime.now()\n",
    "        train_batch_time = (end_time-start_time).seconds / len(train_loader.dataset) * batch_size # 每个batch_size训练时间\n",
    "        train_acc  = train_corrent / len(train_loader.dataset) * 100.\n",
    "        #############测试################\n",
    "        net.eval()\n",
    "        start_time = datetime.datetime.now()\n",
    "        for i, data in enumerate(test_loader):\n",
    "            img, label = data\n",
    "            img, label = img.cuda(), label.cuda()\n",
    "            outputs = net(img)\n",
    "            _, pred = torch.max(outputs, 1)\n",
    "            test_corrent += (pred==label).sum()\n",
    "        end_time = datetime.datetime.now()\n",
    "        test_batch_time = (end_time-start_time).seconds / len(test_loader.dataset) * batch_size\n",
    "        test_acc = test_corrent / len(test_loader.dataset) * 100.\n",
    "        scheduler.step()\n",
    "        print(\"epoch:{}|{}: loss: {:.3f}, train_acc: {:.3f}, test_acc: {:.3f}, time: {:.3f}|{:.3f}\".format(epoch+1, num_epochs, train_loss, train_acc, test_acc, train_batch_time, test_batch_time))\n",
    "        if test_acc > best_acc:\n",
    "            state = {\n",
    "                \"net\": net.state_dict(),\n",
    "                \"best_acc\": test_acc,\n",
    "                \"epoch\": epoch\n",
    "            }\n",
    "            if not os.path.isdir(\"cifar10_resnet_checkpoint\"):\n",
    "                os.mkdir(\"cifar10_resnet_checkpoint\")\n",
    "            torch.save(state, \"./cifar10_resnet_checkpoint/best_ckpt.pth\")\n",
    "            best_acc = test_acc"
   ]
  },
  {
   "cell_type": "markdown",
   "id": "b76b81a7",
   "metadata": {},
   "source": [
    "# 训练"
   ]
  },
  {
   "cell_type": "code",
   "execution_count": null,
   "id": "a05cfa3b",
   "metadata": {},
   "outputs": [
    {
     "name": "stdout",
     "output_type": "stream",
     "text": [
      "0|5: loss: 12455.9325928092, train_acc: 26.76799964904785, test_acc: 34.790000915527344, time: 0.08208|0.0168\n",
      "1|5: loss: 9985.866578131914, train_acc: 41.95399856567383, test_acc: 52.59000015258789, time: 0.08176|0.0176\n",
      "2|5: loss: 7930.917583227158, train_acc: 55.40800094604492, test_acc: 64.16999816894531, time: 0.08192|0.0168\n",
      "3|5: loss: 6371.415918037295, train_acc: 64.63600158691406, test_acc: 69.54000091552734, time: 0.08256|0.0176\n"
     ]
    }
   ],
   "source": [
    "train(net=ResNet18(), train_loader=train_loader, test_loader=test_loader, num_epochs=num_epochs, lr=lr)"
   ]
  }
 ],
 "metadata": {
  "kernelspec": {
   "display_name": "Python 3 (ipykernel)",
   "language": "python",
   "name": "python3"
  },
  "language_info": {
   "codemirror_mode": {
    "name": "ipython",
    "version": 3
   },
   "file_extension": ".py",
   "mimetype": "text/x-python",
   "name": "python",
   "nbconvert_exporter": "python",
   "pygments_lexer": "ipython3",
   "version": "3.8.0"
  }
 },
 "nbformat": 4,
 "nbformat_minor": 5
}
